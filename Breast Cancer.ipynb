{
 "cells": [
  {
   "cell_type": "code",
   "execution_count": 1,
   "metadata": {},
   "outputs": [],
   "source": [
    "import numpy as np\n",
    "np.random.seed(777)\n",
    "import time\n",
    "import keras as keras\n",
    "from keras.layers import GlobalAveragePooling2D\n",
    "from keras.preprocessing import image\n",
    "from keras.preprocessing.image import ImageDataGenerator\n",
    "from keras.applications.vgg16 import decode_predictions\n",
    "from keras.models import Sequential\n",
    "from keras.layers import Dense,Activation,Flatten\n",
    "from keras.layers import merge,Input\n",
    "from keras.models import Model\n",
    "from keras.utils import np_utils\n",
    "from sklearn.utils import shuffle\n",
    "from sklearn.model_selection import train_test_split\n",
    "import os\n",
    "from keras.preprocessing.image import ImageDataGenerator\n",
    "from keras.applications.vgg16 import VGG16\n",
    "from keras.applications.inception_v3 import InceptionV3\n",
    "from keras.applications.resnet50 import ResNet50\n",
    "from keras.applications.vgg19 import VGG19\n",
    "from keras.applications.xception import Xception\n",
    "from keras.applications.vgg16 import preprocess_input as pi_vgg16\n",
    "from keras.applications.inception_v3 import preprocess_input as pi_incep\n",
    "from keras.applications.resnet50 import preprocess_input as pi_resnet\n",
    "from keras.applications.vgg19 import preprocess_input as pi_vgg19\n",
    "from keras.applications.xception import preprocess_input as pi_xcep \n",
    "from keras.models import load_model\n",
    "from numpy import array\n",
    "from numpy import argmax\n",
    "from sklearn.metrics import accuracy_score\n",
    "from  numpy import mean \n",
    "from numpy import std\n",
    "import matplotlib.pyplot as plt\n",
    "from tensorflow.keras.optimizers import Adam,SGD\n",
    "from keras.callbacks import ReduceLROnPlateau,EarlyStopping,ModelCheckpoint\n",
    "from keras.layers import GlobalAveragePooling2D, Concatenate\n",
    "from keras.layers import BatchNormalization,Dropout\n",
    "from keras.regularizers import l1,l2,l1_l2\n",
    "import math\n",
    "from keras import backend as K\n",
    "from keras.metrics import categorical_accuracy\n",
    "import warnings\n",
    "warnings.filterwarnings('always')\n",
    "warnings.filterwarnings('ignore')"
   ]
  },
  {
   "cell_type": "code",
   "execution_count": 2,
   "metadata": {},
   "outputs": [],
   "source": [
    "import os\n",
    "from os.path import basename, join, exists"
   ]
  },
  {
   "cell_type": "code",
   "execution_count": 3,
   "metadata": {},
   "outputs": [],
   "source": [
    "def run_predictions(image_path):\n",
    "    loaded_model=keras.models.load_model('xception_upto95frozen.h5',compile=False)\n",
    "    loaded_model.load_weights('xception_upto95frozen_weights.h5')\n",
    "    test_dir=image_path\n",
    "    \n",
    "    img_height =512\n",
    "    img_width = 512\n",
    "    batch_size =32\n",
    "    input_shape = (img_width, img_height, 3)\n",
    "    \n",
    "    random_seed = np.random.seed(1142)\n",
    "    test_datagen=ImageDataGenerator(rescale=1./255)\n",
    "    test_generator_xcep=test_datagen.flow_from_directory(test_dir,\n",
    "                                                      target_size=(img_height, img_width),\n",
    "                                                          batch_size=batch_size, \n",
    "                                                          seed=random_seed,\n",
    "                                                          shuffle=False,\n",
    "                                                        class_mode='categorical')\n",
    "    \n",
    "    nb_test_samples = len(test_generator_xcep.filenames)\n",
    "    predict_size_test = int(math.ceil(nb_test_samples / batch_size))\n",
    "    \n",
    "    #Xception\n",
    "    model = Xception(include_top=False, weights=\"imagenet\",pooling='avg',input_tensor=Input(shape=input_shape))\n",
    "    \n",
    "    image_input =model.input\n",
    "    x1 = GlobalAveragePooling2D()(model.get_layer(\"block4_sepconv1_act\").output) #layer_26\n",
    "    x2 = GlobalAveragePooling2D()(model.get_layer(\"block5_sepconv1_act\").output) #layer_36\n",
    "    x3 = GlobalAveragePooling2D()(model.get_layer(\"block14_sepconv1\").output)  #layer_126\n",
    "    out= Concatenate()([x1,x2,x3])\n",
    "    custom_xcep_model = Model(image_input , out)\n",
    "    \n",
    "    for layer in custom_xcep_model.layers[:95]:\n",
    "        layer.trainable = False\n",
    "        \n",
    "        \n",
    "    #Saving features of the image\n",
    "    bottleneck_features = custom_xcep_model.predict_generator(test_generator_xcep, predict_size_test)\n",
    "    np.save('bottleneck_features.npy',bottleneck_features)\n",
    "    \n",
    "    data=np.load('bottleneck_features.npy')\n",
    "    \n",
    "    preds = loaded_model.predict(data)\n",
    "    predictions = [i.argmax() for i in preds]\n",
    "    print(predictions)\n",
    "    if(predictions==[0]):\n",
    "        cancer='Benign'\n",
    "    elif(predictions==[1]):\n",
    "        cancer='InSitu'\n",
    "    elif(predictions==[2]):\n",
    "        cancer='Invasive'\n",
    "    else:\n",
    "        cancer='Normal'\n",
    "        \n",
    "    \n",
    "    return cancer"
   ]
  },
  {
   "cell_type": "code",
   "execution_count": 4,
   "metadata": {},
   "outputs": [
    {
     "name": "stdout",
     "output_type": "stream",
     "text": [
      "Found 1 images belonging to 1 classes.\n",
      "WARNING:tensorflow:From <ipython-input-3-56de78c1a84e>:38: Model.predict_generator (from tensorflow.python.keras.engine.training) is deprecated and will be removed in a future version.\n",
      "Instructions for updating:\n",
      "Please use Model.predict, which supports generators.\n",
      "[0]\n"
     ]
    },
    {
     "data": {
      "text/plain": [
       "'Benign'"
      ]
     },
     "execution_count": 4,
     "metadata": {},
     "output_type": "execute_result"
    }
   ],
   "source": [
    "image_path=r'images/'\n",
    "run_predictions(image_path)"
   ]
  }
 ],
 "metadata": {
  "kernelspec": {
   "display_name": "Python 3",
   "language": "python",
   "name": "python3"
  },
  "language_info": {
   "codemirror_mode": {
    "name": "ipython",
    "version": 3
   },
   "file_extension": ".py",
   "mimetype": "text/x-python",
   "name": "python",
   "nbconvert_exporter": "python",
   "pygments_lexer": "ipython3",
   "version": "3.7.8"
  }
 },
 "nbformat": 4,
 "nbformat_minor": 4
}
